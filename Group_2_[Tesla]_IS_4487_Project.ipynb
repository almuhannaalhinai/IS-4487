{
  "cells": [
    {
      "cell_type": "markdown",
      "metadata": {
        "id": "view-in-github",
        "colab_type": "text"
      },
      "source": [
        "<a href=\"https://colab.research.google.com/github/almuhannaalhinai/IS-4487/blob/main/Group_2_%5BTesla%5D_IS_4487_Project.ipynb\" target=\"_parent\"><img src=\"https://colab.research.google.com/assets/colab-badge.svg\" alt=\"Open In Colab\"/></a>"
      ]
    },
    {
      "cell_type": "markdown",
      "id": "93cf6985",
      "metadata": {
        "id": "93cf6985"
      },
      "source": [
        "\n",
        "# Forecasting Tesla EV Sales for Sustainable Growth.\n",
        "**Group Members:** Al Muhanna Al Hinai, Cassandra Clark, Ethan Gibson, Ryker Iverson"
      ]
    },
    {
      "cell_type": "markdown",
      "id": "faaadda5",
      "metadata": {
        "id": "faaadda5"
      },
      "source": [
        "\n",
        "## 0) Modules Setup (Run these first)\n"
      ]
    },
    {
      "cell_type": "code",
      "execution_count": 1,
      "id": "45abf919",
      "metadata": {
        "id": "45abf919"
      },
      "outputs": [],
      "source": [
        "\n",
        "import pandas as pd\n",
        "import numpy as np\n",
        "import matplotlib.pyplot as plt\n",
        "from pathlib import Path\n"
      ]
    },
    {
      "cell_type": "markdown",
      "id": "740c1cce",
      "metadata": {
        "id": "740c1cce"
      },
      "source": [
        "\n",
        "## 2) Business Problem & Context\n",
        "- **Organization:** Tesla, Inc.  \n",
        "- **Problem:** Accurately forecast quarterly EV sales to guide production planning.  \n",
        "- **Why it matters:** Accurate sales forecasts enable Tesla to align manufacturing capacity, supply chain resources, and financial planning with actual market demand. This reduces the risks of stockouts or costly overproduction while ensuring the company can meet investor expectations and strategic growth targets.\n",
        "\n",
        "- **Industry context:** The EV industry is experiencing rapid global adoption alongside intensifying competition, shifting government policies, and macroeconomic uncertainty. These dynamics make reliable forecasting critical for maintaining Tesla’s leadership and resilience in a volatile market.\n"
      ]
    },
    {
      "cell_type": "markdown",
      "id": "e81fc9b0",
      "metadata": {
        "id": "e81fc9b0"
      },
      "source": [
        "## 3) Data Sources & References\n",
        "**Datasets** (add links)**:**\n",
        "- International Energy Agency (IEA): Global EV adoption trends and projections.\n",
        "- Tesla Investor Relations / SEC Filings / Yahoo Finance: Historical Tesla deliveries/sales and financials.\n",
        "\n",
        "**References (at least 2, different parties):**\n",
        "1. _Independent news/research source about EV adoption or Tesla market context (add link)._  \n",
        "2. _Official dataset or documentation (IEA or Tesla IR) (add link)._  \n",
        "3. _Optional: Wikipedia for background (cited but not counted toward the two required references)._\n"
      ]
    },
    {
      "cell_type": "markdown",
      "id": "06d48027",
      "metadata": {
        "id": "06d48027"
      },
      "source": [
        "\n",
        "## 4) Data Acquisition & Loading\n",
        "Place your CSVs in **`/content/drive/MyDrive/colab_data/tesla_project`** (or upload directly). Then run the cell below.\n"
      ]
    },
    {
      "cell_type": "code",
      "execution_count": 3,
      "id": "213d2c31",
      "metadata": {
        "id": "213d2c31"
      },
      "outputs": [],
      "source": []
    },
    {
      "cell_type": "markdown",
      "id": "24a916a5",
      "metadata": {
        "id": "24a916a5"
      },
      "source": [
        "\n",
        "## 5) Data Exploration (EDA)\n",
        "Inspect structure, time ranges, summary stats, and visualize key trends.\n"
      ]
    },
    {
      "cell_type": "code",
      "execution_count": 3,
      "id": "71ea3dcc",
      "metadata": {
        "id": "71ea3dcc"
      },
      "outputs": [],
      "source": []
    },
    {
      "cell_type": "markdown",
      "id": "c1728773",
      "metadata": {
        "id": "c1728773"
      },
      "source": [
        "\n",
        "## 6) Data Cleaning & Preprocessing\n",
        "Handle missing values, align time indices, create features (lags, growth rates), and merge with IEA if used as exogenous predictors.\n"
      ]
    },
    {
      "cell_type": "code",
      "execution_count": 3,
      "id": "143fa94f",
      "metadata": {
        "id": "143fa94f"
      },
      "outputs": [],
      "source": []
    },
    {
      "cell_type": "markdown",
      "id": "c854600e",
      "metadata": {
        "id": "c854600e"
      },
      "source": [
        "## 7) Modeling Approach\n",
        "We compare **2–3 models**:\n",
        "1. **Linear Regression (baseline)** on time/lag features.  \n",
        "2. **ARIMA/SARIMA** for univariate time series dynamics.  \n",
        "3. **Random Forest Regression (optional)** to capture nonlinearities using external predictors (e.g., EV adoption).\n"
      ]
    },
    {
      "cell_type": "markdown",
      "id": "7bdd00bb",
      "metadata": {
        "id": "7bdd00bb"
      },
      "source": [
        "\n",
        "## 8) Model Implementation\n",
        "Use a **time-based split** (e.g., train: 2015–2022, test: 2023–2024). Keep evaluation honest (no leakage).\n"
      ]
    },
    {
      "cell_type": "code",
      "execution_count": 3,
      "id": "a5b1c2f5",
      "metadata": {
        "id": "a5b1c2f5"
      },
      "outputs": [],
      "source": []
    },
    {
      "cell_type": "code",
      "execution_count": 3,
      "id": "3c6fbc00",
      "metadata": {
        "id": "3c6fbc00"
      },
      "outputs": [],
      "source": []
    },
    {
      "cell_type": "code",
      "execution_count": 3,
      "id": "b11e1c7f",
      "metadata": {
        "id": "b11e1c7f"
      },
      "outputs": [],
      "source": []
    },
    {
      "cell_type": "code",
      "execution_count": 3,
      "id": "a957570a",
      "metadata": {
        "id": "a957570a"
      },
      "outputs": [],
      "source": []
    },
    {
      "cell_type": "markdown",
      "id": "3775d6db",
      "metadata": {
        "id": "3775d6db"
      },
      "source": [
        "\n",
        "## 9) Model Evaluation\n",
        "Compare models using RMSE/MAE/MAPE and choose the winner. Interpret results in **business terms**.\n"
      ]
    },
    {
      "cell_type": "code",
      "execution_count": 3,
      "id": "8b6cb278",
      "metadata": {
        "id": "8b6cb278"
      },
      "outputs": [],
      "source": []
    },
    {
      "cell_type": "markdown",
      "id": "d9ab32c5",
      "metadata": {
        "id": "d9ab32c5"
      },
      "source": [
        "\n",
        "## 10) Conclusions & Recommendations\n",
        "- **Best model:** _Add here (based on metrics)_  \n",
        "- **Forecast insight:** _Summarize expected deliveries next 2–3 years._  \n",
        "- **Business actions:** _Production scaling, supplier capacity planning, charging infrastructure alignment._  \n",
        "- **Limitations:** Data coverage, macro shocks, policy changes, assumption sensitivity.\n"
      ]
    },
    {
      "cell_type": "markdown",
      "id": "ec133d35",
      "metadata": {
        "id": "ec133d35"
      },
      "source": [
        "\n",
        "## 11) Dashboard (5–6 Charts)\n",
        "Create a clean section with consistent formatting and labeling for stakeholders.\n"
      ]
    },
    {
      "cell_type": "code",
      "execution_count": 3,
      "id": "0d8f192d",
      "metadata": {
        "id": "0d8f192d"
      },
      "outputs": [],
      "source": []
    },
    {
      "cell_type": "markdown",
      "id": "fde146a1",
      "metadata": {
        "id": "fde146a1"
      },
      "source": [
        "\n",
        "## 12) Ethics Discussion\n",
        "- **Data use & privacy:** Ensure public, aggregated, and ethically sourced data (no PII).  \n",
        "- **Bias & fairness:** Forecast uncertainty may affect suppliers/employees; communicate ranges and confidence.  \n",
        "- **Misuse risk:** Overreliance on a single model; mitigate with ensemble thinking and transparent assumptions.\n"
      ]
    }
  ],
  "metadata": {
    "colab": {
      "provenance": [],
      "include_colab_link": true
    },
    "language_info": {
      "name": "python"
    },
    "kernelspec": {
      "name": "python3",
      "display_name": "Python 3"
    }
  },
  "nbformat": 4,
  "nbformat_minor": 5
}